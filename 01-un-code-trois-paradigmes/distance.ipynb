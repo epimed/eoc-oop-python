{
 "cells": [
  {
   "cell_type": "markdown",
   "id": "86ccde04-29bd-4fe1-bb35-a1e8873c7b3f",
   "metadata": {},
   "source": [
    "# Distance entre deux points avec différents paradigmes de programmation"
   ]
  },
  {
   "cell_type": "code",
   "execution_count": 1,
   "id": "74b52ef7-fac0-4511-b578-c84b8fec4133",
   "metadata": {},
   "outputs": [],
   "source": [
    "import math\n",
    "\n",
    "# Point A\n",
    "x_A = 0\n",
    "y_A = 0\n",
    "\n",
    "# Point B\n",
    "x_B = 1\n",
    "y_B = 1"
   ]
  },
  {
   "cell_type": "markdown",
   "id": "660bde7f-1450-4950-88a9-5320f2ce967b",
   "metadata": {
    "tags": []
   },
   "source": [
    "## 1 - Programmation procédurale"
   ]
  },
  {
   "cell_type": "code",
   "execution_count": 2,
   "id": "8e8c3c2d-fdad-4836-82dc-4559c3d126be",
   "metadata": {},
   "outputs": [
    {
     "name": "stdout",
     "output_type": "stream",
     "text": [
      "1.4142135623730951\n"
     ]
    }
   ],
   "source": [
    "d = math.sqrt( (x_A-x_B)**2 + (y_A-y_B)**2 )\n",
    "print(d)"
   ]
  },
  {
   "cell_type": "markdown",
   "id": "295d62d5-c020-4833-84fe-916a693144c8",
   "metadata": {},
   "source": [
    "**Bonne pratique**: Il est recommandé de nommer la variable selon sa signification, c'est-à-dire *distance* au lieu de *d*. La variante *dist* n'est pas recommandée car la personne qui lira le code sera obligée de deviner s'il s'agit de *distribution*, *distortion*, *distillation* etc.  "
   ]
  },
  {
   "cell_type": "code",
   "execution_count": 3,
   "id": "3d58a140-b4f7-40b4-bb34-1120b0badb68",
   "metadata": {},
   "outputs": [
    {
     "name": "stdout",
     "output_type": "stream",
     "text": [
      "1.4142135623730951\n"
     ]
    }
   ],
   "source": [
    "# Lisibilité améliorée\n",
    "distance = math.sqrt( (x_A-x_B)**2 + (y_A-y_B)**2 )\n",
    "print(distance)"
   ]
  },
  {
   "cell_type": "code",
   "execution_count": 4,
   "id": "867de2d2-1e3e-40f6-9b17-a21982f747df",
   "metadata": {},
   "outputs": [
    {
     "data": {
      "text/plain": [
       "1.4142135623730951"
      ]
     },
     "execution_count": 4,
     "metadata": {},
     "output_type": "execute_result"
    }
   ],
   "source": [
    "# En introduisant une fonction\n",
    "def distance(x_A, y_A, x_B, y_B):\n",
    "    return  math.sqrt( (x_A-x_B)**2 + (y_A-y_B)**2 )\n",
    "\n",
    "distance(x_A, y_A, x_B, y_B)"
   ]
  },
  {
   "cell_type": "code",
   "execution_count": 5,
   "id": "556c623e-59e6-4dd6-8d9c-cc40e6278928",
   "metadata": {},
   "outputs": [
    {
     "data": {
      "text/plain": [
       "2.8284271247461903"
      ]
     },
     "execution_count": 5,
     "metadata": {},
     "output_type": "execute_result"
    }
   ],
   "source": [
    "# La fonction est réutilisable\n",
    "distance(1, 2, 3, 4)"
   ]
  },
  {
   "cell_type": "markdown",
   "id": "097bf00d-ad96-43bf-b84a-429d9e9d5f5a",
   "metadata": {},
   "source": [
    "## 2 - Programmation orientée objet (POO)"
   ]
  },
  {
   "cell_type": "code",
   "execution_count": 6,
   "id": "86c5132d-e409-41d7-afd5-6109cfd69db5",
   "metadata": {},
   "outputs": [],
   "source": [
    "class Point:\n",
    "    def __init__(self, x, y):\n",
    "        self.x = x\n",
    "        self.y = y\n",
    "        \n",
    "    def distance(self, point):\n",
    "        return  math.sqrt( (self.x-point.x)**2 + (self.y-point.y)**2 )"
   ]
  },
  {
   "cell_type": "code",
   "execution_count": 7,
   "id": "d029ae0d-4480-4e07-bfe3-eca189ae2825",
   "metadata": {},
   "outputs": [
    {
     "data": {
      "text/plain": [
       "1.4142135623730951"
      ]
     },
     "execution_count": 7,
     "metadata": {},
     "output_type": "execute_result"
    }
   ],
   "source": [
    "point_A = Point(x_A, y_A)\n",
    "point_B = Point(x_B, y_B)\n",
    "point_A.distance(point_B)"
   ]
  },
  {
   "cell_type": "code",
   "execution_count": 8,
   "id": "c49f2005-b601-4819-9833-704f99a0fe68",
   "metadata": {},
   "outputs": [
    {
     "data": {
      "text/plain": [
       "4.47213595499958"
      ]
     },
     "execution_count": 8,
     "metadata": {},
     "output_type": "execute_result"
    }
   ],
   "source": [
    "# Réutilisable\n",
    "point_C = Point(2, 4)\n",
    "point_A.distance(point_C)"
   ]
  },
  {
   "cell_type": "markdown",
   "id": "2d413971-b34a-4ef8-a1e4-ff56dcb36696",
   "metadata": {},
   "source": [
    "## 3 - Programmation fonctionnelle"
   ]
  },
  {
   "cell_type": "markdown",
   "id": "7012a6b0-f749-4039-b467-27e0da896630",
   "metadata": {},
   "source": [
    "Il se trouve que notre version du code en paradigme procédural respecte également les règles de la programmation fonctionnelle. "
   ]
  },
  {
   "cell_type": "code",
   "execution_count": 9,
   "id": "f4c8eeeb-7d63-4dcd-95c6-d09714d1f4c2",
   "metadata": {},
   "outputs": [
    {
     "data": {
      "text/plain": [
       "1.4142135623730951"
      ]
     },
     "execution_count": 9,
     "metadata": {},
     "output_type": "execute_result"
    }
   ],
   "source": [
    "# Fonction classique\n",
    "def distance(x_A, y_A, x_B, y_B):\n",
    "    return  math.sqrt( (x_A-x_B)**2 + (y_A-y_B)**2 )\n",
    "\n",
    "distance(x_A, y_A, x_B, y_B)"
   ]
  },
  {
   "cell_type": "code",
   "execution_count": 10,
   "id": "45c43fde-7d67-468c-9031-6ed25ada3f38",
   "metadata": {},
   "outputs": [
    {
     "data": {
      "text/plain": [
       "1.4142135623730951"
      ]
     },
     "execution_count": 10,
     "metadata": {},
     "output_type": "execute_result"
    }
   ],
   "source": [
    "# Fonction lambda\n",
    "distance = lambda x_A, y_A, x_B, y_B: math.sqrt( (x_A-x_B)**2 + (y_A-y_B)**2 )\n",
    "\n",
    "distance(x_A, y_A, x_B, y_B)"
   ]
  },
  {
   "cell_type": "code",
   "execution_count": 11,
   "id": "dbeea542-c82b-4821-9db7-ce071d3a8eaf",
   "metadata": {},
   "outputs": [
    {
     "data": {
      "text/plain": [
       "2.8284271247461903"
      ]
     },
     "execution_count": 11,
     "metadata": {},
     "output_type": "execute_result"
    }
   ],
   "source": [
    "# La fonction lambda est réutilisable\n",
    "distance(1, 2, 3, 4)"
   ]
  }
 ],
 "metadata": {
  "kernelspec": {
   "display_name": "Python 3 (ipykernel)",
   "language": "python",
   "name": "python3"
  },
  "language_info": {
   "codemirror_mode": {
    "name": "ipython",
    "version": 3
   },
   "file_extension": ".py",
   "mimetype": "text/x-python",
   "name": "python",
   "nbconvert_exporter": "python",
   "pygments_lexer": "ipython3",
   "version": "3.9.7"
  }
 },
 "nbformat": 4,
 "nbformat_minor": 5
}
