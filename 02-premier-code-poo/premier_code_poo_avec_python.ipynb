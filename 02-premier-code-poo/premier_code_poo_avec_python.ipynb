{
 "cells": [
  {
   "cell_type": "markdown",
   "id": "544c9b95-95eb-4267-97fb-fd0eed6a7472",
   "metadata": {
    "tags": []
   },
   "source": [
    "# Premier code en POO avec Python : classe et objet"
   ]
  },
  {
   "cell_type": "markdown",
   "id": "b8db3d4c-db0c-4102-b5bd-98d8ad002098",
   "metadata": {},
   "source": [
    "# Créer une classe Point"
   ]
  },
  {
   "cell_type": "code",
   "execution_count": 1,
   "id": "24ea3c7c-eed2-4d84-a5e2-eb8cb5fb08d0",
   "metadata": {},
   "outputs": [],
   "source": [
    "class Point:\n",
    "    pass"
   ]
  },
  {
   "cell_type": "markdown",
   "id": "5d40f80b-9762-45b1-8ff5-686a6ea4c4e2",
   "metadata": {},
   "source": [
    "Cette classe permet de créer des objets de type *Point*. "
   ]
  },
  {
   "cell_type": "code",
   "execution_count": 2,
   "id": "3ccf6a8b-6d7b-4f34-9d03-740ac200a212",
   "metadata": {},
   "outputs": [],
   "source": [
    "p = Point()"
   ]
  },
  {
   "cell_type": "code",
   "execution_count": 3,
   "id": "9c85549f-2a09-4ddd-84e9-eb16b0f50403",
   "metadata": {},
   "outputs": [
    {
     "data": {
      "text/plain": [
       "__main__.Point"
      ]
     },
     "execution_count": 3,
     "metadata": {},
     "output_type": "execute_result"
    }
   ],
   "source": [
    "type(p)"
   ]
  },
  {
   "cell_type": "code",
   "execution_count": 4,
   "id": "6294008e-2822-42dc-955d-4b7001dc5377",
   "metadata": {},
   "outputs": [
    {
     "name": "stdout",
     "output_type": "stream",
     "text": [
      "<__main__.Point object at 0x000001F903A4B820>\n"
     ]
    }
   ],
   "source": [
    "print(p)"
   ]
  },
  {
   "cell_type": "markdown",
   "id": "6f76ec91-5bac-4406-88ef-fd91ed3ebdd6",
   "metadata": {},
   "source": [
    "# Définir les attributs de la classe Point"
   ]
  },
  {
   "cell_type": "code",
   "execution_count": 5,
   "id": "4be9b7b0-f393-4c01-9d13-8a4e9fa1f4f3",
   "metadata": {},
   "outputs": [],
   "source": [
    "class Point:\n",
    "    \n",
    "    def __init__(self, x, y):\n",
    "        self.x = x\n",
    "        self.y = y"
   ]
  },
  {
   "cell_type": "markdown",
   "id": "61cc53ad-b649-476c-a793-1fc4b51e1896",
   "metadata": {},
   "source": [
    "La méthode `__init__` est le *constructeur* de la classe Point. Cette méthode est executée quand on instancie un objet de cette classe."
   ]
  },
  {
   "cell_type": "markdown",
   "id": "7dee00b7-0187-49cd-9565-fb422d90fe31",
   "metadata": {
    "tags": []
   },
   "source": [
    "Le mot clé `self` fait référence à l'instance de la classe."
   ]
  },
  {
   "cell_type": "markdown",
   "id": "0af87964-d08a-48cf-a777-7e60946aa5f1",
   "metadata": {},
   "source": [
    "Les arguments x et y sont maintenant obligatoires pour instancier un objet."
   ]
  },
  {
   "cell_type": "code",
   "execution_count": 6,
   "id": "1821b053-21b2-4afa-bde2-f43e37eeff9c",
   "metadata": {},
   "outputs": [],
   "source": [
    "# Appel du constructeur __init__avec les arguments x=1 et y=2\n",
    "a = Point(1, 2)"
   ]
  },
  {
   "cell_type": "markdown",
   "id": "c2df5199-1bc2-497e-89b2-410773e78440",
   "metadata": {},
   "source": [
    "Il est possible d'accéder aux attributs de l'objet en utilisant l'opérateur `.`, par exemple, `a.x`."
   ]
  },
  {
   "cell_type": "code",
   "execution_count": 7,
   "id": "6d0f0f91-de3e-4cef-a766-4e53b5b09349",
   "metadata": {},
   "outputs": [
    {
     "name": "stdout",
     "output_type": "stream",
     "text": [
      "1 2\n"
     ]
    }
   ],
   "source": [
    "print(a.x, a.y)"
   ]
  },
  {
   "cell_type": "code",
   "execution_count": 8,
   "id": "87f242fd-191d-42be-bd89-8a1330a0a7ed",
   "metadata": {},
   "outputs": [
    {
     "name": "stdout",
     "output_type": "stream",
     "text": [
      "3 4\n"
     ]
    }
   ],
   "source": [
    "b = Point(3, 4)\n",
    "print(b.x, b.y)"
   ]
  },
  {
   "cell_type": "markdown",
   "id": "2ecaa264-b2e0-43b2-b6a0-85560f020e0f",
   "metadata": {},
   "source": [
    "Il est possible de modifier directement les attributs de l'objet."
   ]
  },
  {
   "cell_type": "code",
   "execution_count": 9,
   "id": "64cddb7a-637a-4fba-a7d1-be3acc3e79b1",
   "metadata": {},
   "outputs": [
    {
     "name": "stdout",
     "output_type": "stream",
     "text": [
      "7 8\n"
     ]
    }
   ],
   "source": [
    "b.x = 7\n",
    "b.y = 8\n",
    "print(b.x, b.y)"
   ]
  },
  {
   "cell_type": "markdown",
   "id": "39df28a2-fe49-4678-b0c9-2c3b527f65be",
   "metadata": {},
   "source": [
    "**Remarque**. Dans la plupart des langages orientés objets classiques, comme C++ ou Java, l'accès direct aux attributs (par exemple, b.x = 7) est fortement déconseillé, voire interdit, pour respecter le principe d'encapsulation. Dans ces langages, il est habituellement nécessaire de définir des méthodes spécifiques (getters et setters) pour manipuler les attributs. En Python, les attributs des objets sont par défaut publiques et peuvent être accédés directement. Il existe toutefois des conventions en Python qui permettent d'indiquer explicitement qu'un attribut est interne à l'objet et qu'il ne doit pas être accédé directement même si techniquement cela reste possible."
   ]
  },
  {
   "cell_type": "code",
   "execution_count": 10,
   "id": "f4bf481d-9faf-49b7-8477-eea07a1fc3fb",
   "metadata": {},
   "outputs": [],
   "source": [
    "# Le code ci-dessous produit une erreur car x et y sont manquants\n",
    "# p = Point()"
   ]
  },
  {
   "cell_type": "markdown",
   "id": "495a54a9-a4bc-4e20-9bee-55dff217a02f",
   "metadata": {},
   "source": [
    "Il est possible de définir des valeurs par défaut pour les attributs."
   ]
  },
  {
   "cell_type": "code",
   "execution_count": 11,
   "id": "f3fce406-705a-4eb2-b248-058dfb00d80c",
   "metadata": {},
   "outputs": [],
   "source": [
    "class Point:\n",
    "    \n",
    "    def __init__(self, x = 0, y = 0):\n",
    "        self.x = x\n",
    "        self.y = y"
   ]
  },
  {
   "cell_type": "code",
   "execution_count": 12,
   "id": "511520b1-6bf2-42db-a1b9-6afda2b37dbc",
   "metadata": {},
   "outputs": [
    {
     "name": "stdout",
     "output_type": "stream",
     "text": [
      "0 0\n"
     ]
    }
   ],
   "source": [
    "# Un point par défaut avec x=0 et y=0\n",
    "p = Point()\n",
    "print(p.x, p.y)"
   ]
  },
  {
   "cell_type": "markdown",
   "id": "ebc360e3-d82e-48d3-93bc-22e4d9dc90a8",
   "metadata": {
    "tags": []
   },
   "source": [
    "# Définir une représentation de l'objet"
   ]
  },
  {
   "cell_type": "code",
   "execution_count": 13,
   "id": "eadbce58-5833-4689-bf35-858df7f9aa15",
   "metadata": {},
   "outputs": [
    {
     "name": "stdout",
     "output_type": "stream",
     "text": [
      "<__main__.Point object at 0x000001F903A928B0>\n"
     ]
    }
   ],
   "source": [
    "print(p)"
   ]
  },
  {
   "cell_type": "code",
   "execution_count": 14,
   "id": "f35609bf-c96c-4270-80ee-f01107b21230",
   "metadata": {},
   "outputs": [
    {
     "name": "stdout",
     "output_type": "stream",
     "text": [
      "0 0\n"
     ]
    }
   ],
   "source": [
    "print(p.x, p.y)"
   ]
  },
  {
   "cell_type": "code",
   "execution_count": 15,
   "id": "9cf59c0c-849e-44ea-8959-611a8a152dea",
   "metadata": {},
   "outputs": [
    {
     "name": "stdout",
     "output_type": "stream",
     "text": [
      "Point [x=0, y=0]\n"
     ]
    }
   ],
   "source": [
    "point_representation = f\"Point [x={p.x}, y={p.y}]\"\n",
    "print(point_representation)"
   ]
  },
  {
   "cell_type": "markdown",
   "id": "ee52f62b-06dd-4b8e-961e-b23036a3554b",
   "metadata": {},
   "source": [
    "La méthode spéciale `__repr__` permet d'indiquer une chaîne de caractères qui sert à représenter une classe."
   ]
  },
  {
   "cell_type": "code",
   "execution_count": 16,
   "id": "5698a535-2c08-4d8a-a7d4-f9dc4ce9203e",
   "metadata": {},
   "outputs": [],
   "source": [
    "class Point:\n",
    "    \n",
    "    def __init__(self, x = 0, y = 0):\n",
    "        self.x = x\n",
    "        self.y = y\n",
    "    \n",
    "    def __repr__(self):\n",
    "        return f\"Point [x={self.x}, y={self.y}]\""
   ]
  },
  {
   "cell_type": "code",
   "execution_count": 17,
   "id": "052bf737-4f81-41ed-8877-7cd2ba30e603",
   "metadata": {},
   "outputs": [
    {
     "name": "stdout",
     "output_type": "stream",
     "text": [
      "Point [x=0, y=0]\n"
     ]
    }
   ],
   "source": [
    "p = Point()\n",
    "print(p)"
   ]
  },
  {
   "cell_type": "markdown",
   "id": "910274d2-9b78-42d1-b314-6b6ace340ee7",
   "metadata": {},
   "source": [
    "# Définir une méthode"
   ]
  },
  {
   "cell_type": "code",
   "execution_count": 18,
   "id": "2f13dcb4-aba1-4236-896e-7c7bedec0ed2",
   "metadata": {},
   "outputs": [],
   "source": [
    "class Point:\n",
    "    \n",
    "    def __init__(self, x = 0, y = 0):\n",
    "        self.x = x\n",
    "        self.y = y\n",
    "        \n",
    "    def reset(self):\n",
    "        self.x = 0\n",
    "        self.y = 0\n",
    "    \n",
    "    def __repr__(self):\n",
    "        return f\"Point [x={self.x}, y={self.y}]\""
   ]
  },
  {
   "cell_type": "code",
   "execution_count": 19,
   "id": "686a3495-0493-4d29-b44b-add47bbb0a70",
   "metadata": {},
   "outputs": [
    {
     "name": "stdout",
     "output_type": "stream",
     "text": [
      "Point [x=3, y=4]\n"
     ]
    }
   ],
   "source": [
    "p = Point(3, 4)\n",
    "print(p)"
   ]
  },
  {
   "cell_type": "code",
   "execution_count": 20,
   "id": "151c054c-3975-4fb9-8e8e-14b59d7644d8",
   "metadata": {},
   "outputs": [
    {
     "name": "stdout",
     "output_type": "stream",
     "text": [
      "Point [x=0, y=0]\n"
     ]
    }
   ],
   "source": [
    "p.reset()\n",
    "print(p)"
   ]
  },
  {
   "cell_type": "markdown",
   "id": "29004122-ea3c-4ef9-98e4-de8d24aa9fc8",
   "metadata": {},
   "source": [
    "**Vocabulaire de la POO**. Dans la ligne `p.reset()`, le programme principal `__main__` (parfois, on parle en général d'un Client ou d'un Contexte) envoie un *message* `reset()` à l'objet `p`. "
   ]
  },
  {
   "cell_type": "markdown",
   "id": "cde56c39-da97-4a99-b666-b25a9fa68dc3",
   "metadata": {},
   "source": [
    "![sequence_diagram_point_reset.png](sequence_diagram_point_reset.png)"
   ]
  },
  {
   "cell_type": "markdown",
   "id": "746ee356-cd27-4352-8282-85a93d597f5d",
   "metadata": {},
   "source": [
    "# Annotations des méthodes et documentation docstring "
   ]
  },
  {
   "cell_type": "code",
   "execution_count": 21,
   "id": "d0fe49e4-b69f-4e24-b13c-1fa0daefc94b",
   "metadata": {},
   "outputs": [],
   "source": [
    "class Point:\n",
    "    \"\"\"Implementation of a geometric point\"\"\"\n",
    "    \n",
    "    def __init__(self, x:float = 0, y:float = 0) -> None:\n",
    "        self.x = x\n",
    "        self.y = y\n",
    "        \n",
    "    def reset(self) -> None:\n",
    "        \"\"\"Reset the point to the origin\"\"\"\n",
    "        self.x = 0\n",
    "        self.y = 0\n",
    "    \n",
    "    def __repr__(self) -> str:\n",
    "        return f\"Point [x={self.x}, y={self.y}]\""
   ]
  },
  {
   "cell_type": "code",
   "execution_count": 22,
   "id": "006570fb-9286-403e-b18c-b00c46117ce9",
   "metadata": {},
   "outputs": [
    {
     "name": "stdout",
     "output_type": "stream",
     "text": [
      "Implementation of a geometric point\n"
     ]
    }
   ],
   "source": [
    "print(Point.__doc__)"
   ]
  },
  {
   "cell_type": "code",
   "execution_count": 23,
   "id": "8e56e62a-52cf-4d5b-88b3-8cbec684ef80",
   "metadata": {
    "tags": []
   },
   "outputs": [
    {
     "name": "stdout",
     "output_type": "stream",
     "text": [
      "Reset the point to the origin\n"
     ]
    }
   ],
   "source": [
    "print(Point.reset.__doc__)"
   ]
  },
  {
   "cell_type": "markdown",
   "id": "f26f59fd-bddc-46df-ab3b-4cd00a8f5700",
   "metadata": {},
   "source": [
    "# Exercice (corrigé)"
   ]
  },
  {
   "cell_type": "markdown",
   "id": "2c649015-4b5a-4045-b1c1-2df683c43b30",
   "metadata": {},
   "source": [
    "Créer un programme qui exécute les étapes suivantes et répondre aux questions.\n",
    "1. Créer le point A (-1.0, 3.0)\n",
    "2. Créer le point B (3.5, 2.1)\n",
    "3. Calculer la distance entre les points A et B\n",
    "4. Déplacer le point A de dx=0.5 et dy=1.5\n",
    "5. Est-ce que la distance entre A et B a augmenté ?"
   ]
  },
  {
   "cell_type": "markdown",
   "id": "d95a6867-798b-4413-b00d-28eb26dd3f28",
   "metadata": {},
   "source": [
    "## Conception"
   ]
  },
  {
   "cell_type": "markdown",
   "id": "b562029e-4b9a-4baf-b397-b4d4c640343b",
   "metadata": {},
   "source": [
    "Pour résoudre cet exercice, il est nécessaire de créer la classe Point. Dans le programme, il aura deux objets de cette classe : les points A et B. \n",
    "\n",
    "*Quels attributs ?*\n",
    "\n",
    "Les points sont définis dans l'espace 2D. La classe Point possède alors deux attributs : x et y. \n",
    "\n",
    "*Quelles méthodes ?*\n",
    "- Un constructeur qui permet d'instancier un objet avec des coordonnées x et y\n",
    "- Une méthode qui permet de calculer la distance entre deux points\n",
    "- Une méthode qui permet de déplacer un point de (dx, dy)"
   ]
  },
  {
   "cell_type": "markdown",
   "id": "5b143128-3371-4777-82bb-63aeb0fe6e4c",
   "metadata": {},
   "source": [
    "![class_diagram_point.png](class_diagram_point.png)"
   ]
  },
  {
   "cell_type": "markdown",
   "id": "bb86a312-4257-42f1-9ef8-1de76381b033",
   "metadata": {},
   "source": [
    "## Implémentation de la classe Point"
   ]
  },
  {
   "cell_type": "code",
   "execution_count": 24,
   "id": "f7aad770-bd4a-44a7-85f7-14c260d450b1",
   "metadata": {},
   "outputs": [],
   "source": [
    "from math import hypot\n",
    "\n",
    "class Point:\n",
    "    \n",
    "    def __init__(self, x:float = 0, y:float =0) -> None:\n",
    "        self.x = x\n",
    "        self.y = y\n",
    "        \n",
    "    def shift(self, dx: float = 0, dy: float = 0) -> None:\n",
    "        self.x = self.x + dx\n",
    "        self.y = self.y + dy\n",
    "        \n",
    "    def calculate_distance(self, other: \"Point\") -> float:\n",
    "        return hypot(self.x - other.x, self.y - other.y)\n",
    "        \n",
    "    def __repr__(self) -> str:\n",
    "        return f\"Point [x={self.x}, y={self.y}]\"   "
   ]
  },
  {
   "cell_type": "markdown",
   "id": "f1f3620f-209c-42a5-9a2e-0b64b3ede109",
   "metadata": {},
   "source": [
    "<img src=\"distance.png\" alt=\"Calcul de la distance\" width=\"300\"/>"
   ]
  },
  {
   "cell_type": "markdown",
   "id": "9a97a7e0-53e2-4cad-97dd-64c45ca7ce40",
   "metadata": {},
   "source": [
    "## Implémentation du programme"
   ]
  },
  {
   "cell_type": "code",
   "execution_count": 25,
   "id": "bd15cb24-cdc9-4c28-9c23-7abecf529bfa",
   "metadata": {},
   "outputs": [
    {
     "name": "stdout",
     "output_type": "stream",
     "text": [
      "A: Point [x=-1.0, y=3.0]\n",
      "B: Point [x=3.5, y=2.1]\n",
      "Original distance: 4.589117562233507\n",
      "Shifted A: Point [x=-0.5, y=4.5]\n",
      "Updated distance: 4.66476151587624\n",
      "Distance increased? True\n"
     ]
    }
   ],
   "source": [
    "# Créer le point A (-1.0, 3.0)\n",
    "a = Point(-1.0, 3.0)\n",
    "print(\"A:\", a)\n",
    "\n",
    "# Créer le point B (3.5, 2.1)\n",
    "b = Point(3.5, 2.1)\n",
    "print(\"B:\", b)\n",
    "\n",
    "# Calculer la distance entre les points A et B\n",
    "original_distance = a.calculate_distance(b)\n",
    "print(\"Original distance:\", original_distance)\n",
    "\n",
    "# Déplacer le point A de dx=0.5 et dy=1.5\n",
    "a.shift(dx=0.5, dy=1.5)\n",
    "print(\"Shifted A:\", a)\n",
    "\n",
    "# Est-ce que la distance entre A et B a augmenté ?\n",
    "updated_distance = a.calculate_distance(b)\n",
    "print(\"Updated distance:\", updated_distance)\n",
    "print(\"Distance increased?\", updated_distance>original_distance)"
   ]
  },
  {
   "cell_type": "code",
   "execution_count": null,
   "id": "5d7f38d9-59f4-4522-b47f-74ae6580afd7",
   "metadata": {},
   "outputs": [],
   "source": []
  }
 ],
 "metadata": {
  "kernelspec": {
   "display_name": "Python 3 (ipykernel)",
   "language": "python",
   "name": "python3"
  },
  "language_info": {
   "codemirror_mode": {
    "name": "ipython",
    "version": 3
   },
   "file_extension": ".py",
   "mimetype": "text/x-python",
   "name": "python",
   "nbconvert_exporter": "python",
   "pygments_lexer": "ipython3",
   "version": "3.9.7"
  },
  "toc-autonumbering": false,
  "toc-showcode": false,
  "toc-showmarkdowntxt": false,
  "toc-showtags": true
 },
 "nbformat": 4,
 "nbformat_minor": 5
}
